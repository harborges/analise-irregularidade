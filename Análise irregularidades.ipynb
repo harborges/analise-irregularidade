{
 "cells": [
  {
   "cell_type": "markdown",
   "id": "9103f961",
   "metadata": {},
   "source": [
    "# Detecção de irregularidade em processo seletivo com Python\n",
    "#### *04 de fevereiro de 2022*\n",
    "#### *Por Hélber Borges*\n",
    "\n",
    "<img src=\"https://marshalsseg.com.br/wp-content/uploads/2021/04/o-que-investigacao-de-riscos-e-fraudes-corporativas-investigacao-empresarial.jpg\" width=\"650\"/>\n",
    "\n",
    "### 1. Descrição Geral do Problema\n",
    "\n",
    "Muitas vezes o uso de estatística e de Machine Leaning podem ser de grande valia no setor público. Esse estudo vem mostrar como as ferramentas disponíveis em Python podem ajudar na busca de indícios de irregularidades em processos seletivos e concursos, dentre outros.\n",
    "Embora esta análise não seja uma prova definitiva da manipulação de um concurso, pode fornecer importantes insights que ajudarão a selecionar o que deve ou não ser investigado com mais profundidade.\n",
    "Neste projeto iremos analisar as estatísticas das notas de um processo seletivo realizado para a contratação de estagiário para um órgão público, que consiste em duas etapas específicas, sendo uma delas objetiva e outra subjetiva.\n",
    "A primeira etapa consiste em uma redação em que foram avaliados os conhecimentos sobre o tema, domínio da lingua culta, dentre outros e a nota varia entre 0 e 50.\n",
    "A segunda etapa consiste em uma entrevista realizada presencialmente com os candidatos e a nota também varia entre 0 e 50. A nota total é resultado da soma das duas etapas.\n",
    "Foram excluídos da tabela os candidatos desclassificados na primeira fase, isto é, aqueles que não participaram da entrevista.\n",
    "\n",
    "<b>Objetivo:</b> Utilizar a linguagem <b>Python</b> para realizar análises estatísticas sobre a distribuição das notas e obter insights acerca de possíveis manipulações no resultado, além de <b>Machine Learning</b> para agrupar os candidatos em diferentes clusters. \n",
    "\n",
    "<b>Hipótese inicial:</b> A hipótese inicial é que as notas nas diferentes etapas tendem a ser positivamente correlacionadas, isto é, altos valores em uma etapa tendem a se repetir na outra, uma vez que espera-se que os candidatos com maior nota tenham se preparado mais que os candidatos com menor nota. Espera-se, também, que a distribuição das notas apresente um padrão aleatório porém convergente a uma distribuição uniforme discreta com valores levemente convergentes em torno da média.\n",
    "\n",
    "<b>Disclaimer:</b> O objetivo deste estudo é mostrar a utilidade daq implementação de técnicas de estatística e ML em Python, não sendo utilizadas como provas ou evidências em qualquer investigação judicial, servindo somente para fins de estudo. Não há divulgação de nomes de indivíduos ou quaisquer informações que possam associar a um processo seletivo ocorrido no mundo real e, deste modo, as informações não devem ser utilizadas como tal.\n"
   ]
  },
  {
   "cell_type": "markdown",
   "id": "ba54ae21",
   "metadata": {},
   "source": [
    "### 2. Carregando  e tratando dados\n",
    "\n",
    "##### 2.1 Importando bibliotecas necessárias\n",
    "\n",
    "Iniciamos o projeto importando todas as bibliotecas necessárias para a realização das fases iniciais de exploração e transformação dos dados."
   ]
  },
  {
   "cell_type": "code",
   "execution_count": 5,
   "id": "8c38cc77",
   "metadata": {},
   "outputs": [],
   "source": [
    "import pandas as pd\n",
    "import seaborn as sns\n",
    "from matplotlib import pyplot as plt\n",
    "from sklearn.cluster import KMeans"
   ]
  },
  {
   "cell_type": "markdown",
   "id": "4545d77e",
   "metadata": {},
   "source": [
    "#### 2.2 Carregando dados\n",
    "\n",
    "O primeiro passo é importar a planilha excel contendo os dados das notas da 'Redação', da 'Entrevista' e 'Total'."
   ]
  },
  {
   "cell_type": "code",
   "execution_count": 27,
   "id": "2062a8aa",
   "metadata": {},
   "outputs": [
    {
     "data": {
      "text/html": [
       "<div>\n",
       "<style scoped>\n",
       "    .dataframe tbody tr th:only-of-type {\n",
       "        vertical-align: middle;\n",
       "    }\n",
       "\n",
       "    .dataframe tbody tr th {\n",
       "        vertical-align: top;\n",
       "    }\n",
       "\n",
       "    .dataframe thead th {\n",
       "        text-align: right;\n",
       "    }\n",
       "</style>\n",
       "<table border=\"1\" class=\"dataframe\">\n",
       "  <thead>\n",
       "    <tr style=\"text-align: right;\">\n",
       "      <th></th>\n",
       "      <th>Redação</th>\n",
       "      <th>Entrevista</th>\n",
       "      <th>Total</th>\n",
       "    </tr>\n",
       "  </thead>\n",
       "  <tbody>\n",
       "    <tr>\n",
       "      <th>0</th>\n",
       "      <td>30.0</td>\n",
       "      <td>10.0</td>\n",
       "      <td>40.0</td>\n",
       "    </tr>\n",
       "    <tr>\n",
       "      <th>1</th>\n",
       "      <td>32.5</td>\n",
       "      <td>20.0</td>\n",
       "      <td>52.5</td>\n",
       "    </tr>\n",
       "    <tr>\n",
       "      <th>2</th>\n",
       "      <td>32.5</td>\n",
       "      <td>20.0</td>\n",
       "      <td>52.5</td>\n",
       "    </tr>\n",
       "    <tr>\n",
       "      <th>3</th>\n",
       "      <td>32.5</td>\n",
       "      <td>20.0</td>\n",
       "      <td>52.5</td>\n",
       "    </tr>\n",
       "    <tr>\n",
       "      <th>4</th>\n",
       "      <td>35.0</td>\n",
       "      <td>20.0</td>\n",
       "      <td>55.0</td>\n",
       "    </tr>\n",
       "    <tr>\n",
       "      <th>5</th>\n",
       "      <td>37.5</td>\n",
       "      <td>20.0</td>\n",
       "      <td>57.5</td>\n",
       "    </tr>\n",
       "    <tr>\n",
       "      <th>6</th>\n",
       "      <td>30.0</td>\n",
       "      <td>30.0</td>\n",
       "      <td>60.0</td>\n",
       "    </tr>\n",
       "    <tr>\n",
       "      <th>7</th>\n",
       "      <td>32.5</td>\n",
       "      <td>30.0</td>\n",
       "      <td>62.5</td>\n",
       "    </tr>\n",
       "    <tr>\n",
       "      <th>8</th>\n",
       "      <td>37.5</td>\n",
       "      <td>30.0</td>\n",
       "      <td>67.5</td>\n",
       "    </tr>\n",
       "    <tr>\n",
       "      <th>9</th>\n",
       "      <td>40.0</td>\n",
       "      <td>30.0</td>\n",
       "      <td>70.0</td>\n",
       "    </tr>\n",
       "    <tr>\n",
       "      <th>10</th>\n",
       "      <td>42.5</td>\n",
       "      <td>30.0</td>\n",
       "      <td>72.5</td>\n",
       "    </tr>\n",
       "    <tr>\n",
       "      <th>11</th>\n",
       "      <td>40.0</td>\n",
       "      <td>35.0</td>\n",
       "      <td>75.0</td>\n",
       "    </tr>\n",
       "    <tr>\n",
       "      <th>12</th>\n",
       "      <td>40.0</td>\n",
       "      <td>35.0</td>\n",
       "      <td>75.0</td>\n",
       "    </tr>\n",
       "    <tr>\n",
       "      <th>13</th>\n",
       "      <td>40.0</td>\n",
       "      <td>35.0</td>\n",
       "      <td>75.0</td>\n",
       "    </tr>\n",
       "    <tr>\n",
       "      <th>14</th>\n",
       "      <td>40.0</td>\n",
       "      <td>35.0</td>\n",
       "      <td>75.0</td>\n",
       "    </tr>\n",
       "    <tr>\n",
       "      <th>15</th>\n",
       "      <td>45.0</td>\n",
       "      <td>30.0</td>\n",
       "      <td>75.0</td>\n",
       "    </tr>\n",
       "    <tr>\n",
       "      <th>16</th>\n",
       "      <td>45.0</td>\n",
       "      <td>30.0</td>\n",
       "      <td>75.0</td>\n",
       "    </tr>\n",
       "    <tr>\n",
       "      <th>17</th>\n",
       "      <td>45.0</td>\n",
       "      <td>30.0</td>\n",
       "      <td>75.0</td>\n",
       "    </tr>\n",
       "    <tr>\n",
       "      <th>18</th>\n",
       "      <td>30.0</td>\n",
       "      <td>47.5</td>\n",
       "      <td>77.5</td>\n",
       "    </tr>\n",
       "    <tr>\n",
       "      <th>19</th>\n",
       "      <td>32.5</td>\n",
       "      <td>45.0</td>\n",
       "      <td>77.5</td>\n",
       "    </tr>\n",
       "    <tr>\n",
       "      <th>20</th>\n",
       "      <td>32.5</td>\n",
       "      <td>45.0</td>\n",
       "      <td>77.5</td>\n",
       "    </tr>\n",
       "    <tr>\n",
       "      <th>21</th>\n",
       "      <td>37.5</td>\n",
       "      <td>40.0</td>\n",
       "      <td>77.5</td>\n",
       "    </tr>\n",
       "    <tr>\n",
       "      <th>22</th>\n",
       "      <td>42.5</td>\n",
       "      <td>35.0</td>\n",
       "      <td>77.5</td>\n",
       "    </tr>\n",
       "    <tr>\n",
       "      <th>23</th>\n",
       "      <td>42.5</td>\n",
       "      <td>35.0</td>\n",
       "      <td>77.5</td>\n",
       "    </tr>\n",
       "    <tr>\n",
       "      <th>24</th>\n",
       "      <td>42.5</td>\n",
       "      <td>35.0</td>\n",
       "      <td>77.5</td>\n",
       "    </tr>\n",
       "    <tr>\n",
       "      <th>25</th>\n",
       "      <td>42.5</td>\n",
       "      <td>35.0</td>\n",
       "      <td>77.5</td>\n",
       "    </tr>\n",
       "    <tr>\n",
       "      <th>26</th>\n",
       "      <td>47.5</td>\n",
       "      <td>30.0</td>\n",
       "      <td>77.5</td>\n",
       "    </tr>\n",
       "    <tr>\n",
       "      <th>27</th>\n",
       "      <td>30.0</td>\n",
       "      <td>50.0</td>\n",
       "      <td>80.0</td>\n",
       "    </tr>\n",
       "    <tr>\n",
       "      <th>28</th>\n",
       "      <td>37.5</td>\n",
       "      <td>42.5</td>\n",
       "      <td>80.0</td>\n",
       "    </tr>\n",
       "  </tbody>\n",
       "</table>\n",
       "</div>"
      ],
      "text/plain": [
       "    Redação  Entrevista  Total\n",
       "0      30.0        10.0   40.0\n",
       "1      32.5        20.0   52.5\n",
       "2      32.5        20.0   52.5\n",
       "3      32.5        20.0   52.5\n",
       "4      35.0        20.0   55.0\n",
       "5      37.5        20.0   57.5\n",
       "6      30.0        30.0   60.0\n",
       "7      32.5        30.0   62.5\n",
       "8      37.5        30.0   67.5\n",
       "9      40.0        30.0   70.0\n",
       "10     42.5        30.0   72.5\n",
       "11     40.0        35.0   75.0\n",
       "12     40.0        35.0   75.0\n",
       "13     40.0        35.0   75.0\n",
       "14     40.0        35.0   75.0\n",
       "15     45.0        30.0   75.0\n",
       "16     45.0        30.0   75.0\n",
       "17     45.0        30.0   75.0\n",
       "18     30.0        47.5   77.5\n",
       "19     32.5        45.0   77.5\n",
       "20     32.5        45.0   77.5\n",
       "21     37.5        40.0   77.5\n",
       "22     42.5        35.0   77.5\n",
       "23     42.5        35.0   77.5\n",
       "24     42.5        35.0   77.5\n",
       "25     42.5        35.0   77.5\n",
       "26     47.5        30.0   77.5\n",
       "27     30.0        50.0   80.0\n",
       "28     37.5        42.5   80.0"
      ]
     },
     "metadata": {},
     "output_type": "display_data"
    }
   ],
   "source": [
    "#importar dados\n",
    "\n",
    "notas = pd.read_excel(\"Dados.xlsx\")\n",
    "\n",
    "#analisar dados\n",
    "notas.head()\n",
    "display(notas)"
   ]
  },
  {
   "cell_type": "markdown",
   "id": "5274b51d",
   "metadata": {},
   "source": [
    "#### 2.3 Avaliando a base importada\n",
    "\n",
    "O próximo passo tem como objetivo mostrar o formato dos dados e se existe algum valor nulo. Nota-se que todos os dados são do tipo float e não há células com valores NaN. \n",
    "\n",
    "Deste modo, não será necessária nenhuma adequação na base de dados."
   ]
  },
  {
   "cell_type": "code",
   "execution_count": 7,
   "id": "95db83f0",
   "metadata": {},
   "outputs": [
    {
     "name": "stdout",
     "output_type": "stream",
     "text": [
      "<class 'pandas.core.frame.DataFrame'>\n",
      "RangeIndex: 29 entries, 0 to 28\n",
      "Data columns (total 3 columns):\n",
      " #   Column      Non-Null Count  Dtype  \n",
      "---  ------      --------------  -----  \n",
      " 0   Redação     29 non-null     float64\n",
      " 1   Entrevista  29 non-null     float64\n",
      " 2   Total       29 non-null     float64\n",
      "dtypes: float64(3)\n",
      "memory usage: 824.0 bytes\n",
      "None\n"
     ]
    }
   ],
   "source": [
    "print(notas.info())\n"
   ]
  },
  {
   "cell_type": "markdown",
   "id": "67b9dbd3",
   "metadata": {},
   "source": [
    "### 3. Estatísticas\n",
    "\n",
    "#### 3.1 Estatística descritiva\n",
    "\n",
    "Abaixo serão descritas as estatísticas básicas dos dados. As estatísticas são:\n",
    "- MEAN: média dos valores da variável\n",
    "- STD: Desvio-padrão da variável. O desvio-padrão é uma medida de dispersão, ou seja, mostra o quanto os dados variam em torno da média. Quanto menos uniformes os dados, maior o desvio-padrão.\n",
    "- MIN: Valor mínimo observado em cada variável.\n",
    "- 25%: Valor do primeiro quartil.\n",
    "- 50%: Valor do segundo quartil.\n",
    "- 75%: Valor do terceiro quartil.\n",
    "- Max: Valor máximo observado em cada variável.\n",
    "\n",
    "Uma informação salta aos olhos em uma primeira análise: o desvio-padrão da variável 'Redação' é muito inferior ao da variável 'Entrevista'. Nos próximos passos avaliaremos a dispersão com maior detalhamento.\n"
   ]
  },
  {
   "cell_type": "code",
   "execution_count": 8,
   "id": "44e88629",
   "metadata": {},
   "outputs": [
    {
     "data": {
      "text/html": [
       "<div>\n",
       "<style scoped>\n",
       "    .dataframe tbody tr th:only-of-type {\n",
       "        vertical-align: middle;\n",
       "    }\n",
       "\n",
       "    .dataframe tbody tr th {\n",
       "        vertical-align: top;\n",
       "    }\n",
       "\n",
       "    .dataframe thead th {\n",
       "        text-align: right;\n",
       "    }\n",
       "</style>\n",
       "<table border=\"1\" class=\"dataframe\">\n",
       "  <thead>\n",
       "    <tr style=\"text-align: right;\">\n",
       "      <th></th>\n",
       "      <th>Redação</th>\n",
       "      <th>Entrevista</th>\n",
       "      <th>Total</th>\n",
       "    </tr>\n",
       "  </thead>\n",
       "  <tbody>\n",
       "    <tr>\n",
       "      <th>count</th>\n",
       "      <td>29.000000</td>\n",
       "      <td>29.000000</td>\n",
       "      <td>29.000000</td>\n",
       "    </tr>\n",
       "    <tr>\n",
       "      <th>mean</th>\n",
       "      <td>37.758621</td>\n",
       "      <td>32.068966</td>\n",
       "      <td>69.827586</td>\n",
       "    </tr>\n",
       "    <tr>\n",
       "      <th>std</th>\n",
       "      <td>5.359605</td>\n",
       "      <td>9.235727</td>\n",
       "      <td>10.772216</td>\n",
       "    </tr>\n",
       "    <tr>\n",
       "      <th>min</th>\n",
       "      <td>30.000000</td>\n",
       "      <td>10.000000</td>\n",
       "      <td>40.000000</td>\n",
       "    </tr>\n",
       "    <tr>\n",
       "      <th>25%</th>\n",
       "      <td>32.500000</td>\n",
       "      <td>30.000000</td>\n",
       "      <td>62.500000</td>\n",
       "    </tr>\n",
       "    <tr>\n",
       "      <th>50%</th>\n",
       "      <td>37.500000</td>\n",
       "      <td>30.000000</td>\n",
       "      <td>75.000000</td>\n",
       "    </tr>\n",
       "    <tr>\n",
       "      <th>75%</th>\n",
       "      <td>42.500000</td>\n",
       "      <td>35.000000</td>\n",
       "      <td>77.500000</td>\n",
       "    </tr>\n",
       "    <tr>\n",
       "      <th>max</th>\n",
       "      <td>47.500000</td>\n",
       "      <td>50.000000</td>\n",
       "      <td>80.000000</td>\n",
       "    </tr>\n",
       "  </tbody>\n",
       "</table>\n",
       "</div>"
      ],
      "text/plain": [
       "         Redação  Entrevista      Total\n",
       "count  29.000000   29.000000  29.000000\n",
       "mean   37.758621   32.068966  69.827586\n",
       "std     5.359605    9.235727  10.772216\n",
       "min    30.000000   10.000000  40.000000\n",
       "25%    32.500000   30.000000  62.500000\n",
       "50%    37.500000   30.000000  75.000000\n",
       "75%    42.500000   35.000000  77.500000\n",
       "max    47.500000   50.000000  80.000000"
      ]
     },
     "execution_count": 8,
     "metadata": {},
     "output_type": "execute_result"
    }
   ],
   "source": [
    "notas.describe()"
   ]
  },
  {
   "cell_type": "markdown",
   "id": "9d888a0a",
   "metadata": {},
   "source": [
    "#### 3.2 Análise exploratória\n",
    "\n",
    "A partir desta etapa utilizaremos de análises e métodos disponíveis no Python. Começaremos plotando um boxplot que avalia a variaçãao das notas das entrevistas com base nas notas das redações.\n",
    "\n",
    "Percebe-se aqui que, à medida que as notas da redação são maiores os resultados são menores e menos dispersos. Por outro lado, as menores notas na redação tendem a ter uma variação  maior e também os melhores resultados.\n",
    "\n",
    "> Aqui cabe um primeiro questionamento a um resultado contraintuitivo. Por que os candidatos com maiores notas na redação necessariamente obtiveram notas baixas na entrevista?  Ao mesmo tempo, por que os candidatos com menores notas obtiveram maior variação nas mesmas e atingiram as notas mais altas na entrevista? Estas perguntas mostram indicadores da tendência dos dados e deverão ser respondidas com outras análises."
   ]
  },
  {
   "cell_type": "code",
   "execution_count": 9,
   "id": "895d56ba",
   "metadata": {},
   "outputs": [
    {
     "data": {
      "text/plain": [
       "<AxesSubplot:xlabel='Redação', ylabel='Entrevista'>"
      ]
     },
     "execution_count": 9,
     "metadata": {},
     "output_type": "execute_result"
    },
    {
     "data": {
      "image/png": "[encoded data removed]",
      "text/plain": [
       "<Figure size 432x288 with 1 Axes>"
      ]
     },
     "metadata": {
      "needs_background": "light"
     },
     "output_type": "display_data"
    }
   ],
   "source": [
    "#variação dos dados em função da nota da redação - etapa 1\n",
    "sns.boxplot(x=notas['Redação'], y=notas['Entrevista'])\n",
    "\n"
   ]
  },
  {
   "cell_type": "markdown",
   "id": "90774a0b",
   "metadata": {},
   "source": [
    "#### 3.2.1 Distribuição das notas por etapa\n",
    "\n",
    "Para responder ao questionamento acima, uma primeira providência pode ser entender a distribuição das notas dos candidatos em cada etapa. Observa-se, ao plotar a frequência de distribuição das notas da redação, que as notas foram distribuídas de maneira aparentemente aleatória, com uma densidade de distribuição parecida entre 30 e 50 pontos, tendendo a figurar como uma <b> distribuição uniforme discreta</b>.\n",
    "\n",
    ">A Uniforme discreta é a distribuição de n resultados diferentes, mas igualmente prováveis. É a contrapartida da distribuição uniforme no espaço discreto. Toma como entrada apenas N, o número de resultados distintos.\n",
    "\n",
    "<img src=\"https://miro.medium.com/max/588/1*BqHSs8bG47d136MqoYlL9w.png\">\n"
   ]
  },
  {
   "cell_type": "code",
   "execution_count": 10,
   "id": "be751bd8",
   "metadata": {},
   "outputs": [
    {
     "name": "stderr",
     "output_type": "stream",
     "text": [
      "C:\\Users\\henri\\anaconda\\lib\\site-packages\\seaborn\\distributions.py:2619: FutureWarning: `distplot` is a deprecated function and will be removed in a future version. Please adapt your code to use either `displot` (a figure-level function with similar flexibility) or `histplot` (an axes-level function for histograms).\n",
      "  warnings.warn(msg, FutureWarning)\n"
     ]
    },
    {
     "data": {
      "text/plain": [
       "<AxesSubplot:xlabel='Redação', ylabel='Density'>"
      ]
     },
     "execution_count": 10,
     "metadata": {},
     "output_type": "execute_result"
    },
    {
     "data": {
      "image/png": "[encoded data removed]",
      "text/plain": [
       "<Figure size 432x288 with 1 Axes>"
      ]
     },
     "metadata": {
      "needs_background": "light"
     },
     "output_type": "display_data"
    }
   ],
   "source": [
    "#histogramas\n",
    "sns.distplot(notas['Redação'])\n"
   ]
  },
  {
   "cell_type": "markdown",
   "id": "cbf1a264",
   "metadata": {},
   "source": [
    "Avaliada a distribuição as notas da Etapa 1 (Redação), avaliaremos o comportamento das notas da Etapa 2 (Entrevista). Percebe-se claramente que a distribuição desta é muito diferente daquela. Aqui nota-se uma predominância das notas em torno de 30 com distribuição que aparenta a uma distribuição gaussiana.\n",
    "\n",
    ">A distribuição gaussiana (ou normal) é uma das distribuições de probabilidade mais utilizadas para modelar fenômenos naturais. Isso se deve ao fato de que um grande número de fenômenos naturais apresenta sua distribuição de probabilidade tão proximamente normal, que a ela pode ser com sucesso referida, e, portanto, com adequado acerto por ela representada como se normal fosse. A distribuição normal é ligada a vários conceitos matemáticos como movimento browniano, ruído branco, entre outros. Em termos mais formais, a distribuição normal é uma distribuição de probabilidade absolutamente contínua parametrizada pela sua esperança matemática e desvio padrão."
   ]
  },
  {
   "cell_type": "code",
   "execution_count": 11,
   "id": "a89ec100",
   "metadata": {},
   "outputs": [
    {
     "name": "stderr",
     "output_type": "stream",
     "text": [
      "C:\\Users\\henri\\anaconda\\lib\\site-packages\\seaborn\\distributions.py:2619: FutureWarning: `distplot` is a deprecated function and will be removed in a future version. Please adapt your code to use either `displot` (a figure-level function with similar flexibility) or `histplot` (an axes-level function for histograms).\n",
      "  warnings.warn(msg, FutureWarning)\n"
     ]
    },
    {
     "data": {
      "text/plain": [
       "<AxesSubplot:xlabel='Entrevista', ylabel='Density'>"
      ]
     },
     "execution_count": 11,
     "metadata": {},
     "output_type": "execute_result"
    },
    {
     "data": {
      "image/png": "[encoded data removed]",
      "text/plain": [
       "<Figure size 432x288 with 1 Axes>"
      ]
     },
     "metadata": {
      "needs_background": "light"
     },
     "output_type": "display_data"
    }
   ],
   "source": [
    "sns.distplot(notas['Entrevista'])\n"
   ]
  },
  {
   "attachments": {},
   "cell_type": "markdown",
   "id": "6a4e2663",
   "metadata": {},
   "source": [
    "#### 3.2.2 Correlação dos dados\n",
    "\n",
    "O próximo passo da investigação é a análise da correlação dos dados como um todo e de trechos especificamente selecionados do mesmo.\n",
    "\n",
    ">Correlação, dependência ou associação é qualquer relação estatística (causal ou não causal) entre duas variáveis e correlação é qualquer relação dentro de uma ampla classe de relações estatísticas que envolva dependência entre duas variáveis.\n",
    ">A correlação pode assumir valores que oscilam entre -1 e 1, passando por 0, sendo que o valor -1 indica que o par de variáveis é correlacionado negativamente de forma perfeita (ou seja, o aumento do valor de uma variável implica necessariamente a redução em mesmo nível de outra) e o valor 1 indica que as varáveis são perfeitamente relacionadas (o aumento de uma variável implica no aumento em mesmo nível em outra variável), conforme mostram figuras abaixo:\n",
    "\n",
    "<img src=\"https://upload.wikimedia.org/wikipedia/commons/c/c3/Correlation100.png\"> <img src=\"https://upload.wikimedia.org/wikipedia/commons/8/82/Correlation077.png\"> <img src=\"https://upload.wikimedia.org/wikipedia/commons/e/ed/Correlation000.png\"> \n",
    "\n",
    "A fins de avaliar uma possível interferência nas notas do seletivo, a correlação será avaliada em 3 grupos distintos:\n",
    "\n",
    "* Todos os dados\n",
    "* Os 10 alunos com menor nota total (p1)\n",
    "* Os 10 alunos com maior nota total (p2)\n",
    "\n",
    "Em um ambiente onde não houvesse interferência no resultado final seria esperado que a correlação dos dados mantivesse o mesmo padrão independente do grupo de dados, um fato que não ocorreu. \n",
    "No grupo de todas as notas foi observado que a redação e a entrevista tem correlação positiva com a nota total, porém a correlação da nota da entrevista é significativamente maior que a nota da redação. Já a correlação entre a redação e a entrevista é próxima de 0 (ou seja, aproximadamente nula)."
   ]
  },
  {
   "cell_type": "code",
   "execution_count": 12,
   "id": "6bb5fb66",
   "metadata": {},
   "outputs": [
    {
     "data": {
      "text/plain": [
       "<AxesSubplot:>"
      ]
     },
     "execution_count": 12,
     "metadata": {},
     "output_type": "execute_result"
    },
    {
     "data": {
      "image/png": "[encoded data removed]",
      "text/plain": [
       "<Figure size 432x288 with 2 Axes>"
      ]
     },
     "metadata": {
      "needs_background": "light"
     },
     "output_type": "display_data"
    }
   ],
   "source": [
    "#correlação\n",
    "#dividindo dados superiores e inferiores em partes baseados na nota final\n",
    "\n",
    "p1 = notas.loc[0:10]\n",
    "p2 = notas.loc[18:28]\n",
    "\n",
    "\n",
    "matriz_corr = notas.corr()\n",
    "sns.heatmap(matriz_corr, annot=True, vmin=-1, vmax=1, center=0)"
   ]
  },
  {
   "cell_type": "markdown",
   "id": "c0b05f41",
   "metadata": {},
   "source": [
    "Já no caso onde são analisadas as menores notas, percebe-se que tanto a redação quanto a entrevista têm um resultado positivamente relacionado com a nota total, de forma forte. Especificamente, a nota da entrevista tem uma correlação próxima a 1, ou seja, tem uma correlação quase que perfeita com o resultado final. \n",
    "\n",
    ">Uma possível causa da correlação quase perfeita entre a entrevista e a nota total pode ser causada pela manipulação de dados da redação a fim de AUMENTAR a nota dos piores classificados. Isoladamente, não se pode concluir isso. Para tanto, deve-se avaliar o comportamento das maiores notas. Caso ocorra uma correlação negativa (ou seja, as notas dos melhores candidatos sejam manipuladas pra baixo a fim de DIMINUIR sua classificação) os indícios de manipulação se tornam quase irrefutáveis."
   ]
  },
  {
   "cell_type": "code",
   "execution_count": 13,
   "id": "8df4b2d2",
   "metadata": {},
   "outputs": [
    {
     "data": {
      "text/plain": [
       "<AxesSubplot:>"
      ]
     },
     "execution_count": 13,
     "metadata": {},
     "output_type": "execute_result"
    },
    {
     "data": {
      "image/png": "[encoded data removed]",
      "text/plain": [
       "<Figure size 432x288 with 2 Axes>"
      ]
     },
     "metadata": {
      "needs_background": "light"
     },
     "output_type": "display_data"
    }
   ],
   "source": [
    "matriz_cp1 = p1.corr()\n",
    "sns.heatmap(matriz_cp1, annot=True, vmin=-1, vmax=1, center=0)"
   ]
  },
  {
   "cell_type": "markdown",
   "id": "44e2b79e",
   "metadata": {},
   "source": [
    "No caso em que são analisadas as maiores notas notam-se resultados totalmente opostos e que reforçam os indícios de manipulação dos resultados. Percebe-se que a correlação entre as notas da entrevista e da redação é de -0.99, ou seja quase que negativamente correlacionada. Isso é um resultado bastante diferente do observado nas outras bases e pode ser explicado pela redução proposital das notas dos melhores colocados e aumento da nota de um candidato mal posicionado na redação.\n",
    "Percebe-se também que há uma correlação negativa entre a nota da redação e a nota total, algo não esperado, uma vez que a nota total é dada pela soma do resultado da redação e da entrevista.\n",
    "Já a correlação da nota da entrevista com a nota final foi positiva, como esperado.\n",
    "\n",
    ">Embora nenhum dos indicadores acima avaliados prove individualmente a manipulação dos resultados, o comportamento de todos eles como um todo apresentam fortes evidências da manipulação do resultado. Não se pode cogitar que o resultado tenha surgido naturalmente, sem nenhuma interferência nas notas da entrevista. A partir desse momento já se indica uma investigação de forma a coletar as provas jurídicas que comprovem a manipulação dos resultados, com grandes probabilidades de serem encontradas."
   ]
  },
  {
   "cell_type": "code",
   "execution_count": 14,
   "id": "166b85dd",
   "metadata": {},
   "outputs": [
    {
     "data": {
      "text/plain": [
       "<AxesSubplot:>"
      ]
     },
     "execution_count": 14,
     "metadata": {},
     "output_type": "execute_result"
    },
    {
     "data": {
      "image/png": "[encoded data removed]",
      "text/plain": [
       "<Figure size 432x288 with 2 Axes>"
      ]
     },
     "metadata": {
      "needs_background": "light"
     },
     "output_type": "display_data"
    }
   ],
   "source": [
    "matriz_cp2 = p2.corr()\n",
    "sns.heatmap(matriz_cp2, annot=True, vmin=-1, vmax=1, center=0)"
   ]
  },
  {
   "cell_type": "markdown",
   "id": "11718fdf",
   "metadata": {},
   "source": [
    "#### 3.2.3 Assimetria (Skewness)\n",
    "\n",
    "Outra medida particularmente útil para a corroboração dos resultados é a de assimetria (skewness). Em Estatística, a assimetria, também conhecida como obliquidade (em Inglês \"skewness\") é uma medida da falta de simetria de uma determinada distribuição de frequência.\n",
    "A obliquidade mede a assimetria das caudas da distribuição. Distribuições assimétricas que tem uma cauda mais \"pesada\" que a outra apresentam obliquidade. Distribuições simétricas tem obliquidade zero. Assim:\n",
    "\n",
    "* Se v>0, então a distribuição tem uma cauda direita (valores acima da média) mais pesada\n",
    "* Se v<0, então a distribuição tem uma cauda esquerda (valores abaixo da média) mais pesada\n",
    "* Se v=0, então a distribuição é aproximadamente simétrica (na terceira potência do desvio em relação à média).\n",
    "\n",
    "Abaixo observa-se que a assimetria das notas de redação é próxima de 0, ou seja, a distribuição dos dados é aproximadamente simétrica. Já a assimetria das notas da entrevista são também próximas de 0, mas mais negativa que a da redação, possuindo uma cauda esquerda mais pesada."
   ]
  },
  {
   "cell_type": "code",
   "execution_count": 15,
   "id": "6294622b",
   "metadata": {
    "scrolled": true
   },
   "outputs": [
    {
     "name": "stdout",
     "output_type": "stream",
     "text": [
      "Assimetria(Skewness) -0.02713611130583685\n",
      "Assimetria(Skewness) -0.1956786985209926\n"
     ]
    }
   ],
   "source": [
    "#Medidas de assimetria\n",
    "\n",
    "assimetria_red = notas['Redação'].skew()\n",
    "assimetria_entr = notas['Entrevista'].skew()\n",
    "\n",
    "print('Assimetria(Skewness)',assimetria_red)\n",
    "print('Assimetria(Skewness)',assimetria_entr)\n"
   ]
  },
  {
   "cell_type": "markdown",
   "id": "11a534d0",
   "metadata": {},
   "source": [
    "### 4 Agrupamento com Machine Learning\n",
    "\n",
    "Machine Learning (ML ou Aprendizado de Máquina) é um método de análise de dados que automatiza a construção de modelos analíticos. É um ramo da inteligência artificial baseado na ideia de que sistemas podem aprender com dados, identificar padrões e tomar decisões com o mínimo de intervenção humana.\n",
    "Existem atualmente diversos algoritmos de ML disponíveis. Estes podem ser usados com diversos propósitos, tais como:\n",
    "* Classificação\n",
    "* Regressão\n",
    "* Clusterização (Agrupamento), dentre outros.\n",
    "\n",
    "No case atual, será utilizado um modelo de clusterização bastante versátil, o KMeans, que é é um algoritmo de clusterização (ou agrupamento) disponível na biblioteca Scikit-Learn.\n",
    "É um algoritmo de aprendizado não supervisionado (ou seja, que não precisa de inputs de confirmação externos) que avalia e clusteriza os dados de acordo com suas características. Alguns dos exemplos de uso do KMeans:\n",
    "* Definição de locais para instalação de centros logísticos em função de lojas;\n",
    "* Clientes com comportamentos semelhantes;\n",
    "* Usuários de determinada rede social e seus influenciadores.\n",
    "\n",
    "Como mostrado acima, o KMeans será útil para agruparmos os participantes do processo seletivo em diferentes clusters. Estes clusters podem ajudar a identificar quais são os indivíduos que possivelmente tiveram suas notas aumentadas e quais deles tiveram suas notas diminuídas.\n",
    "\n",
    "Para tanto, o primeiro passo é definir o número de grupos que deverão ser feitos. Isso não é feito por escolha do programador, mas sim por meio do método de Elbow.\n",
    "\n",
    ">\"O método Elbow se trata de uma técnica interessante para encontrar o valor ideal do parâmetro k. Basicamente o que o método faz é testar a variância dos dados em relação ao número de clusters. É considerado um valor ideal de k quando o aumento no número de clusters não representa um valor significativo de ganho.\"\n",
    "\n",
    "Abaixo são testados os dados com base no método Elbow. Percebe-se que há ganho significativo até o 5o cluster e pouco ganho em mais clusters. Desse modo, definiremos 5 diferentes padrões para o modelo KMEans."
   ]
  },
  {
   "cell_type": "code",
   "execution_count": 17,
   "id": "f4b37883",
   "metadata": {},
   "outputs": [
    {
     "name": "stderr",
     "output_type": "stream",
     "text": [
      "C:\\Users\\henri\\anaconda\\lib\\site-packages\\sklearn\\cluster\\_kmeans.py:881: UserWarning: KMeans is known to have a memory leak on Windows with MKL, when there are less chunks than available threads. You can avoid it by setting the environment variable OMP_NUM_THREADS=1.\n",
      "  warnings.warn(\n"
     ]
    },
    {
     "name": "stdout",
     "output_type": "stream",
     "text": [
      "1 6441.810344827585\n",
      "2 2132.66369047619\n",
      "3 1093.8541666666663\n",
      "4 708.9285714285713\n",
      "5 448.92857142857156\n",
      "6 343.48214285714283\n",
      "7 224.37499999999997\n",
      "8 155.625\n",
      "9 111.875\n"
     ]
    },
    {
     "data": {
      "image/png": "[encoded data removed]",
      "text/plain": [
       "<Figure size 432x288 with 1 Axes>"
      ]
     },
     "metadata": {
      "needs_background": "light"
     },
     "output_type": "display_data"
    }
   ],
   "source": [
    "#definindo o número de clusters\n",
    "\n",
    "wcss = []\n",
    "\n",
    "for i in range(1,10):\n",
    "    kmeans = KMeans(n_clusters = i, init='random')\n",
    "    kmeans.fit(notas)\n",
    "    print(i, kmeans.inertia_)\n",
    "    wcss.append(kmeans.inertia_)\n",
    "plt.plot(range(1,10),wcss)\n",
    "plt.title('Método Elbow para definição de clusters')\n",
    "plt.ylabel('WSS')\n",
    "plt.show()"
   ]
  },
  {
   "cell_type": "markdown",
   "id": "35e31bd1",
   "metadata": {},
   "source": [
    "Feito isso, rodaremos o algoritmo KMeans, que fará até 500 diferentes iterações (ou seja, rodará até 500 vezes o modelo para ajustar e selecionar os melhores pontos).\n",
    "O resultado final é o mostrado abaixo. Os 5 grupos definidos estão separados por cores e os pontos em vermelho são os centroides utilizado para o agrupamento dos dados. \n",
    "\n",
    "Chamam especial atenção o grupo cujas notas da entrevista estão entre 40 e 50 e o grupo mais à direita, cujas notas da redação estão entre 40 e 50. Os demais grupos não possuem muita discrepância entre as notas e possivelmente não foram alvo de manipulação.\n",
    "No primeiro grupo citado encontram-se os candidatos que ficaram empatados em primeiro lugar (números 27 e 28 no dataset), além dos candidatos n. 18, 19, 20 e 21. Já no segundo grupo citado encontram-se os candidatos que ocupam as posições 9, 10, 11, 12, 13, 14, 15, 16, 17, 22, 23, 24, 25 e 26 do dataset, 5 deles (22, 23, 24, 25 e 26) empatados em segundo lugar. Sugere-se que busque evidências de manipulação nos dados ligados a estes indivíduos, especialmente nas notas da entrevista."
   ]
  },
  {
   "cell_type": "code",
   "execution_count": 18,
   "id": "e62b647c",
   "metadata": {},
   "outputs": [
    {
     "data": {
      "image/png": "[encoded data removed]",
      "text/plain": [
       "<Figure size 432x288 with 1 Axes>"
      ]
     },
     "metadata": {
      "needs_background": "light"
     },
     "output_type": "display_data"
    }
   ],
   "source": [
    "\n",
    "\n",
    "kmeans = KMeans(n_clusters = 5, init = 'k-means++', n_init = 10, max_iter = 500)\n",
    "\n",
    "pred_y = kmeans.fit_predict(notas)\n",
    "\n",
    "plt.scatter(notas[\"Redação\"], notas[\"Entrevista\"], c = pred_y)\n",
    "\n",
    "plt.title('Clusterização dos candidatos')\n",
    "plt.xlabel('Notas - Redação')\n",
    "plt.ylabel('Notas - Entrevista')\n",
    "plt.xlim(0, 55)\n",
    "plt.ylim(0, 55)\n",
    "plt.grid()\n",
    "\n",
    "plt.scatter(kmeans.cluster_centers_[:,0], kmeans.cluster_centers_[:,1], s = 70, c = 'red')\n",
    "plt.show()\n",
    "            "
   ]
  },
  {
   "cell_type": "markdown",
   "id": "a2ba8ec3",
   "metadata": {},
   "source": [
    "### Conclusões:\n",
    "\n",
    "As técnicas acima utilizadas mostraram-se de grande valia para uma análise inicial de detecção de irregularidades em um processo seletivo. Por meio de análise estatística descritiva foi possível encontrar dados com comportamentos distintos no que se refere a distribuição, tendência, correlação e assimetria. \n",
    "Esses dados por si só apresentaram importantes evidências de que os candidatos mais bem-posicionados na etapa 1 tiveram suas notas manipuladas para baixo, de modo a permitir que candidatos com baixo desempenho na etapa 1 fossem bem-avaliados na etapa 2 e selecionados nesse processo.\n",
    "A hipótese inicial não se confirmou para todos os dados, especialmente nos primeiros selecionados, o que reforça uma possível interferência na nota desses indivíduos. \n",
    "Já o algoritmo KMeans de Machine Learning se mostrou uma ótima ferramenta para a avaliação de quais candidatos foram alvo de possíveis interferências, de modo a guiar uma futura investigação e facilitar a busca de provas. \n"
   ]
  },
  {
   "cell_type": "code",
   "execution_count": null,
   "id": "7a50c626",
   "metadata": {},
   "outputs": [],
   "source": []
  }
 ],
 "metadata": {
  "kernelspec": {
   "display_name": "Python 3 (ipykernel)",
   "language": "python",
   "name": "python3"
  },
  "language_info": {
   "codemirror_mode": {
    "name": "ipython",
    "version": 3
   },
   "file_extension": ".py",
   "mimetype": "text/x-python",
   "name": "python",
   "nbconvert_exporter": "python",
   "pygments_lexer": "ipython3",
   "version": "3.9.7"
  }
 },
 "nbformat": 4,
 "nbformat_minor": 5
}
